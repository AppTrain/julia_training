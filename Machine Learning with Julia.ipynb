{
 "cells": [
  {
   "cell_type": "code",
   "execution_count": 1,
   "metadata": {
    "collapsed": false
   },
   "outputs": [],
   "source": [
    "using DataFrames, RDatasets"
   ]
  },
  {
   "cell_type": "code",
   "execution_count": 2,
   "metadata": {
    "collapsed": false
   },
   "outputs": [
    {
     "data": {
      "text/html": [
       "<table class=\"data-frame\"><tr><th></th><th>Pharvis</th><th>LnhhExp</th><th>Age</th><th>Sex</th><th>Married</th><th>Educ</th><th>Illness</th><th>Injury</th><th>Illdays</th><th>Actdays</th><th>Insurance</th><th>Commune</th></tr><tr><th>1</th><td>0</td><td>2.730363</td><td>3.7612</td><td>male</td><td>1</td><td>2</td><td>1</td><td>0</td><td>7</td><td>0</td><td>0</td><td>192</td></tr><tr><th>2</th><td>0</td><td>2.737248</td><td>2.944439</td><td>female</td><td>0</td><td>0</td><td>1</td><td>0</td><td>4</td><td>0</td><td>0</td><td>167</td></tr><tr><th>3</th><td>0</td><td>2.266935</td><td>2.56495</td><td>male</td><td>0</td><td>4</td><td>0</td><td>0</td><td>0</td><td>0</td><td>1</td><td>76</td></tr><tr><th>4</th><td>1</td><td>2.392753</td><td>3.637586</td><td>female</td><td>1</td><td>3</td><td>1</td><td>0</td><td>3</td><td>0</td><td>1</td><td>123</td></tr><tr><th>5</th><td>1</td><td>3.105335</td><td>3.295837</td><td>male</td><td>1</td><td>3</td><td>1</td><td>0</td><td>10</td><td>0</td><td>0</td><td>148</td></tr><tr><th>6</th><td>0</td><td>3.760884</td><td>3.367296</td><td>male</td><td>1</td><td>9</td><td>0</td><td>0</td><td>0</td><td>0</td><td>1</td><td>20</td></tr><tr><th>7</th><td>0</td><td>3.155609</td><td>3.663562</td><td>female</td><td>1</td><td>2</td><td>0</td><td>0</td><td>0</td><td>0</td><td>1</td><td>40</td></tr><tr><th>8</th><td>0</td><td>3.724682</td><td>2.197225</td><td>male</td><td>0</td><td>5</td><td>0</td><td>0</td><td>0</td><td>0</td><td>1</td><td>57</td></tr><tr><th>9</th><td>2</td><td>2.861691</td><td>3.7612</td><td>female</td><td>1</td><td>2</td><td>2</td><td>0</td><td>4</td><td>0</td><td>0</td><td>49</td></tr><tr><th>10</th><td>3</td><td>2.615077</td><td>4.234107</td><td>male</td><td>1</td><td>0</td><td>1</td><td>0</td><td>7</td><td>0</td><td>0</td><td>170</td></tr><tr><th>11</th><td>1</td><td>2.653243</td><td>2.772589</td><td>male</td><td>0</td><td>4</td><td>1</td><td>0</td><td>1</td><td>0</td><td>0</td><td>40</td></tr><tr><th>12</th><td>1</td><td>2.139857</td><td>3.663562</td><td>female</td><td>1</td><td>2</td><td>2</td><td>0</td><td>5</td><td>0</td><td>0</td><td>127</td></tr><tr><th>13</th><td>2</td><td>2.625683</td><td>3.555348</td><td>female</td><td>1</td><td>3</td><td>1</td><td>0</td><td>3</td><td>0</td><td>0</td><td>106</td></tr><tr><th>14</th><td>1</td><td>2.767746</td><td>1.94591</td><td>female</td><td>0</td><td>5</td><td>2</td><td>0</td><td>3</td><td>0</td><td>0</td><td>168</td></tr><tr><th>15</th><td>0</td><td>2.871242</td><td>2.302585</td><td>male</td><td>0</td><td>0</td><td>0</td><td>0</td><td>0</td><td>0</td><td>0</td><td>185</td></tr><tr><th>16</th><td>2</td><td>1.983811</td><td>3.135494</td><td>male</td><td>1</td><td>4</td><td>3</td><td>0</td><td>10</td><td>0</td><td>0</td><td>41</td></tr><tr><th>17</th><td>0</td><td>1.260201</td><td>3.091043</td><td>male</td><td>0</td><td>4</td><td>0</td><td>0</td><td>0</td><td>0</td><td>0</td><td>106</td></tr><tr><th>18</th><td>0</td><td>2.298178</td><td>3.401197</td><td>male</td><td>1</td><td>2</td><td>0</td><td>0</td><td>0</td><td>0</td><td>0</td><td>141</td></tr><tr><th>19</th><td>3</td><td>2.132508</td><td>3.332205</td><td>male</td><td>1</td><td>4</td><td>3</td><td>0</td><td>10</td><td>0</td><td>0</td><td>61</td></tr><tr><th>20</th><td>0</td><td>2.000231</td><td>3.258096</td><td>male</td><td>1</td><td>3</td><td>0</td><td>0</td><td>0</td><td>0</td><td>0</td><td>159</td></tr><tr><th>21</th><td>0</td><td>2.018375</td><td>3.218876</td><td>male</td><td>1</td><td>6</td><td>1</td><td>0</td><td>7</td><td>0</td><td>0</td><td>121</td></tr><tr><th>22</th><td>1</td><td>1.886142</td><td>2.639057</td><td>female</td><td>0</td><td>2</td><td>1</td><td>0</td><td>3</td><td>0</td><td>0</td><td>56</td></tr><tr><th>23</th><td>10</td><td>2.953125</td><td>1.098612</td><td>female</td><td>0</td><td>2</td><td>2</td><td>0</td><td>4</td><td>0</td><td>0</td><td>34</td></tr><tr><th>24</th><td>0</td><td>2.378481</td><td>3.526361</td><td>male</td><td>1</td><td>0</td><td>0</td><td>0</td><td>0</td><td>0</td><td>0</td><td>127</td></tr><tr><th>25</th><td>0</td><td>1.574376</td><td>3.555348</td><td>male</td><td>1</td><td>2</td><td>0</td><td>0</td><td>0</td><td>0</td><td>0</td><td>135</td></tr><tr><th>26</th><td>3</td><td>2.495514</td><td>3.637586</td><td>female</td><td>1</td><td>3</td><td>1</td><td>0</td><td>5</td><td>0</td><td>0</td><td>147</td></tr><tr><th>27</th><td>1</td><td>2.318077</td><td>3.7612</td><td>male</td><td>1</td><td>4</td><td>1</td><td>0</td><td>5</td><td>0</td><td>0</td><td>94</td></tr><tr><th>28</th><td>0</td><td>2.029045</td><td>4.248495</td><td>female</td><td>1</td><td>3</td><td>1</td><td>0</td><td>30</td><td>0</td><td>0</td><td>125</td></tr><tr><th>29</th><td>1</td><td>1.788754</td><td>3.610918</td><td>female</td><td>1</td><td>3</td><td>3</td><td>0</td><td>3</td><td>0</td><td>0</td><td>79</td></tr><tr><th>30</th><td>0</td><td>2.091107</td><td>2.079442</td><td>female</td><td>0</td><td>0</td><td>0</td><td>0</td><td>0</td><td>0</td><td>0</td><td>143</td></tr><tr><th>&vellip;</th><td>&vellip;</td><td>&vellip;</td><td>&vellip;</td><td>&vellip;</td><td>&vellip;</td><td>&vellip;</td><td>&vellip;</td><td>&vellip;</td><td>&vellip;</td><td>&vellip;</td><td>&vellip;</td><td>&vellip;</td></tr></table>"
      ],
      "text/plain": [
       "27765x12 DataFrame\n",
       "| Row   | Pharvis | LnhhExp | Age     | Sex      | Married | Educ | Illness |\n",
       "|-------|---------|---------|---------|----------|---------|------|---------|\n",
       "| 1     | 0       | 2.73036 | 3.7612  | \"male\"   | 1       | 2    | 1       |\n",
       "| 2     | 0       | 2.73725 | 2.94444 | \"female\" | 0       | 0    | 1       |\n",
       "| 3     | 0       | 2.26694 | 2.56495 | \"male\"   | 0       | 4    | 0       |\n",
       "| 4     | 1       | 2.39275 | 3.63759 | \"female\" | 1       | 3    | 1       |\n",
       "| 5     | 1       | 3.10534 | 3.29584 | \"male\"   | 1       | 3    | 1       |\n",
       "| 6     | 0       | 3.76088 | 3.3673  | \"male\"   | 1       | 9    | 0       |\n",
       "| 7     | 0       | 3.15561 | 3.66356 | \"female\" | 1       | 2    | 0       |\n",
       "| 8     | 0       | 3.72468 | 2.19722 | \"male\"   | 0       | 5    | 0       |\n",
       "| 9     | 2       | 2.86169 | 3.7612  | \"female\" | 1       | 2    | 2       |\n",
       "| 10    | 3       | 2.61508 | 4.23411 | \"male\"   | 1       | 0    | 1       |\n",
       "| 11    | 1       | 2.65324 | 2.77259 | \"male\"   | 0       | 4    | 1       |\n",
       "⋮\n",
       "| 27754 | 1       | 3.22879 | 3.98898 | \"female\" | 1       | 9    | 1       |\n",
       "| 27755 | 0       | 2.60798 | 3.82864 | \"male\"   | 1       | 2    | 1       |\n",
       "| 27756 | 0       | 2.23453 | 3.97029 | \"female\" | 1       | 3    | 0       |\n",
       "| 27757 | 0       | 1.83282 | 3.61092 | \"male\"   | 1       | 0    | 1       |\n",
       "| 27758 | 0       | 1.67896 | 4.15888 | \"male\"   | 1       | 2    | 0       |\n",
       "| 27759 | 0       | 2.28975 | 2.89037 | \"male\"   | 0       | 0    | 0       |\n",
       "| 27760 | 0       | 2.15735 | 4.00733 | \"female\" | 1       | 4    | 1       |\n",
       "| 27761 | 0       | 1.84729 | 1.60944 | \"female\" | 0       | 5    | 2       |\n",
       "| 27762 | 0       | 2.46146 | 2.83321 | \"female\" | 0       | 6    | 0       |\n",
       "| 27763 | 0       | 2.46026 | 2.56495 | \"female\" | 0       | 5    | 0       |\n",
       "| 27764 | 0       | 1.92017 | 4.00733 | \"female\" | 1       | 4    | 2       |\n",
       "| 27765 | 3       | 2.46883 | 3.13549 | \"male\"   | 0       | 3    | 2       |\n",
       "\n",
       "| Row   | Injury | Illdays | Actdays | Insurance | Commune |\n",
       "|-------|--------|---------|---------|-----------|---------|\n",
       "| 1     | 0      | 7       | 0       | 0         | 192     |\n",
       "| 2     | 0      | 4       | 0       | 0         | 167     |\n",
       "| 3     | 0      | 0       | 0       | 1         | 76      |\n",
       "| 4     | 0      | 3       | 0       | 1         | 123     |\n",
       "| 5     | 0      | 10      | 0       | 0         | 148     |\n",
       "| 6     | 0      | 0       | 0       | 1         | 20      |\n",
       "| 7     | 0      | 0       | 0       | 1         | 40      |\n",
       "| 8     | 0      | 0       | 0       | 1         | 57      |\n",
       "| 9     | 0      | 4       | 0       | 0         | 49      |\n",
       "| 10    | 0      | 7       | 0       | 0         | 170     |\n",
       "| 11    | 0      | 1       | 0       | 0         | 40      |\n",
       "⋮\n",
       "| 27754 | 0      | 3       | 0       | 0         | 86      |\n",
       "| 27755 | 0      | 10      | 0       | 0         | 90      |\n",
       "| 27756 | 0      | 0       | 0       | 0         | 90      |\n",
       "| 27757 | 0      | 1       | 0       | 0         | 90      |\n",
       "| 27758 | 0      | 0       | 0       | 0         | 90      |\n",
       "| 27759 | 0      | 0       | 0       | 0         | 91      |\n",
       "| 27760 | 0      | 30      | 0       | 1         | 108     |\n",
       "| 27761 | 0      | 3       | 0       | 0         | 115     |\n",
       "| 27762 | 0      | 0       | 0       | 0         | 115     |\n",
       "| 27763 | 0      | 0       | 0       | 0         | 116     |\n",
       "| 27764 | 0      | 20      | 0       | 1         | 116     |\n",
       "| 27765 | 0      | 7       | 0       | 0         | 119     |"
      ]
     },
     "execution_count": 2,
     "metadata": {},
     "output_type": "execute_result"
    }
   ],
   "source": [
    "vn = dataset(\"Ecdat\",\"VietNamI\")"
   ]
  },
  {
   "cell_type": "markdown",
   "metadata": {},
   "source": [
    "#Predicting \"Days Ill\" based on historic data"
   ]
  },
  {
   "cell_type": "code",
   "execution_count": 6,
   "metadata": {
    "collapsed": false
   },
   "outputs": [
    {
     "data": {
      "text/plain": [
       "27765-element DataArray{Int32,1}:\n",
       "  7\n",
       "  4\n",
       "  0\n",
       "  3\n",
       " 10\n",
       "  0\n",
       "  0\n",
       "  0\n",
       "  4\n",
       "  7\n",
       "  1\n",
       "  5\n",
       "  3\n",
       "  ⋮\n",
       "  3\n",
       " 10\n",
       "  0\n",
       "  1\n",
       "  0\n",
       "  0\n",
       " 30\n",
       "  3\n",
       "  0\n",
       "  0\n",
       " 20\n",
       "  7"
      ]
     },
     "execution_count": 6,
     "metadata": {},
     "output_type": "execute_result"
    }
   ],
   "source": [
    "days_ill = vn[:Illdays]"
   ]
  },
  {
   "cell_type": "markdown",
   "metadata": {},
   "source": [
    "###We've isolated the signal we want to analyze, now we remove it from the feature set"
   ]
  },
  {
   "cell_type": "code",
   "execution_count": 7,
   "metadata": {
    "collapsed": false
   },
   "outputs": [
    {
     "data": {
      "text/html": [
       "<table class=\"data-frame\"><tr><th></th><th>Pharvis</th><th>LnhhExp</th><th>Age</th><th>Sex</th><th>Married</th><th>Educ</th><th>Illness</th><th>Injury</th><th>Actdays</th><th>Insurance</th><th>Commune</th></tr><tr><th>1</th><td>0</td><td>2.730363</td><td>3.7612</td><td>male</td><td>1</td><td>2</td><td>1</td><td>0</td><td>0</td><td>0</td><td>192</td></tr><tr><th>2</th><td>0</td><td>2.737248</td><td>2.944439</td><td>female</td><td>0</td><td>0</td><td>1</td><td>0</td><td>0</td><td>0</td><td>167</td></tr><tr><th>3</th><td>0</td><td>2.266935</td><td>2.56495</td><td>male</td><td>0</td><td>4</td><td>0</td><td>0</td><td>0</td><td>1</td><td>76</td></tr><tr><th>4</th><td>1</td><td>2.392753</td><td>3.637586</td><td>female</td><td>1</td><td>3</td><td>1</td><td>0</td><td>0</td><td>1</td><td>123</td></tr><tr><th>5</th><td>1</td><td>3.105335</td><td>3.295837</td><td>male</td><td>1</td><td>3</td><td>1</td><td>0</td><td>0</td><td>0</td><td>148</td></tr><tr><th>6</th><td>0</td><td>3.760884</td><td>3.367296</td><td>male</td><td>1</td><td>9</td><td>0</td><td>0</td><td>0</td><td>1</td><td>20</td></tr><tr><th>7</th><td>0</td><td>3.155609</td><td>3.663562</td><td>female</td><td>1</td><td>2</td><td>0</td><td>0</td><td>0</td><td>1</td><td>40</td></tr><tr><th>8</th><td>0</td><td>3.724682</td><td>2.197225</td><td>male</td><td>0</td><td>5</td><td>0</td><td>0</td><td>0</td><td>1</td><td>57</td></tr><tr><th>9</th><td>2</td><td>2.861691</td><td>3.7612</td><td>female</td><td>1</td><td>2</td><td>2</td><td>0</td><td>0</td><td>0</td><td>49</td></tr><tr><th>10</th><td>3</td><td>2.615077</td><td>4.234107</td><td>male</td><td>1</td><td>0</td><td>1</td><td>0</td><td>0</td><td>0</td><td>170</td></tr><tr><th>11</th><td>1</td><td>2.653243</td><td>2.772589</td><td>male</td><td>0</td><td>4</td><td>1</td><td>0</td><td>0</td><td>0</td><td>40</td></tr><tr><th>12</th><td>1</td><td>2.139857</td><td>3.663562</td><td>female</td><td>1</td><td>2</td><td>2</td><td>0</td><td>0</td><td>0</td><td>127</td></tr><tr><th>13</th><td>2</td><td>2.625683</td><td>3.555348</td><td>female</td><td>1</td><td>3</td><td>1</td><td>0</td><td>0</td><td>0</td><td>106</td></tr><tr><th>14</th><td>1</td><td>2.767746</td><td>1.94591</td><td>female</td><td>0</td><td>5</td><td>2</td><td>0</td><td>0</td><td>0</td><td>168</td></tr><tr><th>15</th><td>0</td><td>2.871242</td><td>2.302585</td><td>male</td><td>0</td><td>0</td><td>0</td><td>0</td><td>0</td><td>0</td><td>185</td></tr><tr><th>16</th><td>2</td><td>1.983811</td><td>3.135494</td><td>male</td><td>1</td><td>4</td><td>3</td><td>0</td><td>0</td><td>0</td><td>41</td></tr><tr><th>17</th><td>0</td><td>1.260201</td><td>3.091043</td><td>male</td><td>0</td><td>4</td><td>0</td><td>0</td><td>0</td><td>0</td><td>106</td></tr><tr><th>18</th><td>0</td><td>2.298178</td><td>3.401197</td><td>male</td><td>1</td><td>2</td><td>0</td><td>0</td><td>0</td><td>0</td><td>141</td></tr><tr><th>19</th><td>3</td><td>2.132508</td><td>3.332205</td><td>male</td><td>1</td><td>4</td><td>3</td><td>0</td><td>0</td><td>0</td><td>61</td></tr><tr><th>20</th><td>0</td><td>2.000231</td><td>3.258096</td><td>male</td><td>1</td><td>3</td><td>0</td><td>0</td><td>0</td><td>0</td><td>159</td></tr><tr><th>21</th><td>0</td><td>2.018375</td><td>3.218876</td><td>male</td><td>1</td><td>6</td><td>1</td><td>0</td><td>0</td><td>0</td><td>121</td></tr><tr><th>22</th><td>1</td><td>1.886142</td><td>2.639057</td><td>female</td><td>0</td><td>2</td><td>1</td><td>0</td><td>0</td><td>0</td><td>56</td></tr><tr><th>23</th><td>10</td><td>2.953125</td><td>1.098612</td><td>female</td><td>0</td><td>2</td><td>2</td><td>0</td><td>0</td><td>0</td><td>34</td></tr><tr><th>24</th><td>0</td><td>2.378481</td><td>3.526361</td><td>male</td><td>1</td><td>0</td><td>0</td><td>0</td><td>0</td><td>0</td><td>127</td></tr><tr><th>25</th><td>0</td><td>1.574376</td><td>3.555348</td><td>male</td><td>1</td><td>2</td><td>0</td><td>0</td><td>0</td><td>0</td><td>135</td></tr><tr><th>26</th><td>3</td><td>2.495514</td><td>3.637586</td><td>female</td><td>1</td><td>3</td><td>1</td><td>0</td><td>0</td><td>0</td><td>147</td></tr><tr><th>27</th><td>1</td><td>2.318077</td><td>3.7612</td><td>male</td><td>1</td><td>4</td><td>1</td><td>0</td><td>0</td><td>0</td><td>94</td></tr><tr><th>28</th><td>0</td><td>2.029045</td><td>4.248495</td><td>female</td><td>1</td><td>3</td><td>1</td><td>0</td><td>0</td><td>0</td><td>125</td></tr><tr><th>29</th><td>1</td><td>1.788754</td><td>3.610918</td><td>female</td><td>1</td><td>3</td><td>3</td><td>0</td><td>0</td><td>0</td><td>79</td></tr><tr><th>30</th><td>0</td><td>2.091107</td><td>2.079442</td><td>female</td><td>0</td><td>0</td><td>0</td><td>0</td><td>0</td><td>0</td><td>143</td></tr><tr><th>&vellip;</th><td>&vellip;</td><td>&vellip;</td><td>&vellip;</td><td>&vellip;</td><td>&vellip;</td><td>&vellip;</td><td>&vellip;</td><td>&vellip;</td><td>&vellip;</td><td>&vellip;</td><td>&vellip;</td></tr></table>"
      ],
      "text/plain": [
       "27765x11 DataFrame\n",
       "| Row   | Pharvis | LnhhExp | Age     | Sex      | Married | Educ | Illness |\n",
       "|-------|---------|---------|---------|----------|---------|------|---------|\n",
       "| 1     | 0       | 2.73036 | 3.7612  | \"male\"   | 1       | 2    | 1       |\n",
       "| 2     | 0       | 2.73725 | 2.94444 | \"female\" | 0       | 0    | 1       |\n",
       "| 3     | 0       | 2.26694 | 2.56495 | \"male\"   | 0       | 4    | 0       |\n",
       "| 4     | 1       | 2.39275 | 3.63759 | \"female\" | 1       | 3    | 1       |\n",
       "| 5     | 1       | 3.10534 | 3.29584 | \"male\"   | 1       | 3    | 1       |\n",
       "| 6     | 0       | 3.76088 | 3.3673  | \"male\"   | 1       | 9    | 0       |\n",
       "| 7     | 0       | 3.15561 | 3.66356 | \"female\" | 1       | 2    | 0       |\n",
       "| 8     | 0       | 3.72468 | 2.19722 | \"male\"   | 0       | 5    | 0       |\n",
       "| 9     | 2       | 2.86169 | 3.7612  | \"female\" | 1       | 2    | 2       |\n",
       "| 10    | 3       | 2.61508 | 4.23411 | \"male\"   | 1       | 0    | 1       |\n",
       "| 11    | 1       | 2.65324 | 2.77259 | \"male\"   | 0       | 4    | 1       |\n",
       "⋮\n",
       "| 27754 | 1       | 3.22879 | 3.98898 | \"female\" | 1       | 9    | 1       |\n",
       "| 27755 | 0       | 2.60798 | 3.82864 | \"male\"   | 1       | 2    | 1       |\n",
       "| 27756 | 0       | 2.23453 | 3.97029 | \"female\" | 1       | 3    | 0       |\n",
       "| 27757 | 0       | 1.83282 | 3.61092 | \"male\"   | 1       | 0    | 1       |\n",
       "| 27758 | 0       | 1.67896 | 4.15888 | \"male\"   | 1       | 2    | 0       |\n",
       "| 27759 | 0       | 2.28975 | 2.89037 | \"male\"   | 0       | 0    | 0       |\n",
       "| 27760 | 0       | 2.15735 | 4.00733 | \"female\" | 1       | 4    | 1       |\n",
       "| 27761 | 0       | 1.84729 | 1.60944 | \"female\" | 0       | 5    | 2       |\n",
       "| 27762 | 0       | 2.46146 | 2.83321 | \"female\" | 0       | 6    | 0       |\n",
       "| 27763 | 0       | 2.46026 | 2.56495 | \"female\" | 0       | 5    | 0       |\n",
       "| 27764 | 0       | 1.92017 | 4.00733 | \"female\" | 1       | 4    | 2       |\n",
       "| 27765 | 3       | 2.46883 | 3.13549 | \"male\"   | 0       | 3    | 2       |\n",
       "\n",
       "| Row   | Injury | Actdays | Insurance | Commune |\n",
       "|-------|--------|---------|-----------|---------|\n",
       "| 1     | 0      | 0       | 0         | 192     |\n",
       "| 2     | 0      | 0       | 0         | 167     |\n",
       "| 3     | 0      | 0       | 1         | 76      |\n",
       "| 4     | 0      | 0       | 1         | 123     |\n",
       "| 5     | 0      | 0       | 0         | 148     |\n",
       "| 6     | 0      | 0       | 1         | 20      |\n",
       "| 7     | 0      | 0       | 1         | 40      |\n",
       "| 8     | 0      | 0       | 1         | 57      |\n",
       "| 9     | 0      | 0       | 0         | 49      |\n",
       "| 10    | 0      | 0       | 0         | 170     |\n",
       "| 11    | 0      | 0       | 0         | 40      |\n",
       "⋮\n",
       "| 27754 | 0      | 0       | 0         | 86      |\n",
       "| 27755 | 0      | 0       | 0         | 90      |\n",
       "| 27756 | 0      | 0       | 0         | 90      |\n",
       "| 27757 | 0      | 0       | 0         | 90      |\n",
       "| 27758 | 0      | 0       | 0         | 90      |\n",
       "| 27759 | 0      | 0       | 0         | 91      |\n",
       "| 27760 | 0      | 0       | 1         | 108     |\n",
       "| 27761 | 0      | 0       | 0         | 115     |\n",
       "| 27762 | 0      | 0       | 0         | 115     |\n",
       "| 27763 | 0      | 0       | 0         | 116     |\n",
       "| 27764 | 0      | 0       | 1         | 116     |\n",
       "| 27765 | 0      | 0       | 0         | 119     |"
      ]
     },
     "execution_count": 7,
     "metadata": {},
     "output_type": "execute_result"
    }
   ],
   "source": [
    "delete!(vn,:Illdays)"
   ]
  },
  {
   "cell_type": "code",
   "execution_count": 12,
   "metadata": {
    "collapsed": false
   },
   "outputs": [],
   "source": [
    "# Pkg.add(\"DecisionTree\")\n",
    "using DecisionTree"
   ]
  },
  {
   "cell_type": "markdown",
   "metadata": {},
   "source": [
    "### The DecisionTree package works with Julia Arrays, so we make those conversions"
   ]
  },
  {
   "cell_type": "code",
   "execution_count": 19,
   "metadata": {
    "collapsed": false
   },
   "outputs": [],
   "source": [
    "signals = convert(Array,days_ill)\n",
    "features = convert(Array,vn);"
   ]
  },
  {
   "cell_type": "code",
   "execution_count": 13,
   "metadata": {
    "collapsed": false
   },
   "outputs": [
    {
     "data": {
      "text/html": [
       "5 methods for generic function <b>build_forest</b>:<ul><li> build_forest<i>{T<:FloatingPoint,U<:Real}</i>(labels::<b>Array{T<:FloatingPoint,1}</b>,features::<b>Array{U<:Real,2}</b>,nsubfeatures::<b>Integer</b>,ntrees::<b>Integer</b>) at <a href=\"https://github.com/bensadeghi/DecisionTree.jl/tree/83765089feb5b2d30d72046ab78ca044841c827d/src/DecisionTree.jl#L415\" target=\"_blank\">/home/juser/.julia/v0.3/DecisionTree/src/DecisionTree.jl:415</a><li> build_forest<i>{T<:FloatingPoint,U<:Real}</i>(labels::<b>Array{T<:FloatingPoint,1}</b>,features::<b>Array{U<:Real,2}</b>,nsubfeatures::<b>Integer</b>,ntrees::<b>Integer</b>,maxlabels) at <a href=\"https://github.com/bensadeghi/DecisionTree.jl/tree/83765089feb5b2d30d72046ab78ca044841c827d/src/DecisionTree.jl#L415\" target=\"_blank\">/home/juser/.julia/v0.3/DecisionTree/src/DecisionTree.jl:415</a><li> build_forest<i>{T<:FloatingPoint,U<:Real}</i>(labels::<b>Array{T<:FloatingPoint,1}</b>,features::<b>Array{U<:Real,2}</b>,nsubfeatures::<b>Integer</b>,ntrees::<b>Integer</b>,maxlabels,partialsampling) at <a href=\"https://github.com/bensadeghi/DecisionTree.jl/tree/83765089feb5b2d30d72046ab78ca044841c827d/src/DecisionTree.jl#L415\" target=\"_blank\">/home/juser/.julia/v0.3/DecisionTree/src/DecisionTree.jl:415</a><li> build_forest(labels::<b>Array{T,1}</b>,features::<b>Array{T,2}</b>,nsubfeatures::<b>Integer</b>,ntrees::<b>Integer</b>) at <a href=\"https://github.com/bensadeghi/DecisionTree.jl/tree/83765089feb5b2d30d72046ab78ca044841c827d/src/DecisionTree.jl#L245\" target=\"_blank\">/home/juser/.julia/v0.3/DecisionTree/src/DecisionTree.jl:245</a><li> build_forest(labels::<b>Array{T,1}</b>,features::<b>Array{T,2}</b>,nsubfeatures::<b>Integer</b>,ntrees::<b>Integer</b>,partialsampling) at <a href=\"https://github.com/bensadeghi/DecisionTree.jl/tree/83765089feb5b2d30d72046ab78ca044841c827d/src/DecisionTree.jl#L245\" target=\"_blank\">/home/juser/.julia/v0.3/DecisionTree/src/DecisionTree.jl:245</a></ul>"
      ],
      "text/plain": [
       "# 5 methods for generic function \"build_forest\":\n",
       "build_forest{T<:FloatingPoint,U<:Real}(labels::Array{T<:FloatingPoint,1},features::Array{U<:Real,2},nsubfeatures::Integer,ntrees::Integer) at /home/juser/.julia/v0.3/DecisionTree/src/DecisionTree.jl:415\n",
       "build_forest{T<:FloatingPoint,U<:Real}(labels::Array{T<:FloatingPoint,1},features::Array{U<:Real,2},nsubfeatures::Integer,ntrees::Integer,maxlabels) at /home/juser/.julia/v0.3/DecisionTree/src/DecisionTree.jl:415\n",
       "build_forest{T<:FloatingPoint,U<:Real}(labels::Array{T<:FloatingPoint,1},features::Array{U<:Real,2},nsubfeatures::Integer,ntrees::Integer,maxlabels,partialsampling) at /home/juser/.julia/v0.3/DecisionTree/src/DecisionTree.jl:415\n",
       "build_forest(labels::Array{T,1},features::Array{T,2},nsubfeatures::Integer,ntrees::Integer) at /home/juser/.julia/v0.3/DecisionTree/src/DecisionTree.jl:245\n",
       "build_forest(labels::Array{T,1},features::Array{T,2},nsubfeatures::Integer,ntrees::Integer,partialsampling) at /home/juser/.julia/v0.3/DecisionTree/src/DecisionTree.jl:245"
      ]
     },
     "execution_count": 13,
     "metadata": {},
     "output_type": "execute_result"
    }
   ],
   "source": [
    "methods(build_forest)"
   ]
  },
  {
   "cell_type": "markdown",
   "metadata": {},
   "source": [
    "#Random Forest"
   ]
  },
  {
   "cell_type": "markdown",
   "metadata": {},
   "source": [
    "###build_forest parameters are:\n",
    "**signals** _array of the signal we want to calculate   \n",
    "**features** the corresponding feature array that indicates those signals  \n",
    "**festures used** the number features for the each split or branch of the tree  \n",
    "**number of trees** trees in the forrest, larger takes longer, but could be more accurate.  \n",
    "**sampling rate** number lowered from 1.0 to favor minority signals  "
   ]
  },
  {
   "cell_type": "code",
   "execution_count": 20,
   "metadata": {
    "collapsed": false
   },
   "outputs": [
    {
     "data": {
      "text/plain": [
       "Ensemble of Decision Trees\n",
       "Trees:      10\n",
       "Avg Leaves: 3674.7\n",
       "Avg Depth:  24.3"
      ]
     },
     "execution_count": 20,
     "metadata": {},
     "output_type": "execute_result"
    }
   ],
   "source": [
    "model = build_forest(signals,features,int(sqrt(length(features[1,:]))),10,.9)"
   ]
  },
  {
   "cell_type": "markdown",
   "metadata": {},
   "source": [
    "### Apply the algorithm to any 2D Matix of features"
   ]
  },
  {
   "cell_type": "code",
   "execution_count": 26,
   "metadata": {
    "collapsed": false
   },
   "outputs": [
    {
     "data": {
      "text/plain": [
       "27765-element Array{Any,1}:\n",
       "  7\n",
       "  3\n",
       "  0\n",
       "  3\n",
       " 10\n",
       "  0\n",
       "  0\n",
       "  0\n",
       "  4\n",
       "  7\n",
       "  2\n",
       "  5\n",
       "  3\n",
       "  ⋮\n",
       "  3\n",
       " 10\n",
       "  0\n",
       "  1\n",
       "  0\n",
       "  0\n",
       " 30\n",
       "  3\n",
       "  0\n",
       "  0\n",
       " 20\n",
       "  7"
      ]
     },
     "execution_count": 26,
     "metadata": {},
     "output_type": "execute_result"
    }
   ],
   "source": [
    "predictions = apply_forest(model,features)"
   ]
  },
  {
   "cell_type": "code",
   "execution_count": 24,
   "metadata": {
    "collapsed": false
   },
   "outputs": [
    {
     "data": {
      "text/plain": [
       "32x32 Array{Int64,2}:\n",
       " 16566    0     5    10     1    1    0  …  0  0  0   0  0  0    0  0    1  0\n",
       "     1  290    68    68    16    5    0     0  0  0   0  0  0    0  0    0  0\n",
       "     1    4  1383   114    41    7    0     0  0  0   1  0  0    0  0    0  0\n",
       "     0    2    87  1856    45    7    2     0  0  0   0  0  0    1  0    0  0\n",
       "     1    1    32    95  1129    4    1     0  0  0   1  0  0    1  0    0  0\n",
       "     1    0    56   143    46  841    1  …  0  0  0   0  0  0    1  0    0  0\n",
       "     1    0    23    55    26    8  287     0  0  0   0  0  0    2  0    0  0\n",
       "     1    0    24    66    16    8    0     0  0  0   0  0  0    0  0    0  0\n",
       "     0    0     4    16    12    3    1     0  0  0   0  0  0    0  0    0  0\n",
       "     0    0     1     6     0    0    0     0  0  0   0  0  0    0  0    0  0\n",
       "     0    0    12    40    18    5    1  …  0  0  0   0  0  0    0  0    0  0\n",
       "     0    0     0     1     0    1    0     0  0  0   0  0  0    0  0    0  0\n",
       "     1    0     2     4     6    1    0     0  0  0   0  0  0    1  0    0  0\n",
       "     ⋮                           ⋮       ⋱            ⋮                  ⋮   \n",
       "     1    3     7    23    13    6    0  …  0  0  0   1  0  0    3  0    0  0\n",
       "     0    0     0     1     1    0    0     0  0  0   0  0  0    0  0    0  0\n",
       "     0    0     0     0     0    0    0     1  0  0   0  0  0    0  0    0  0\n",
       "     0    0     0     0     0    0    0     0  3  0   0  0  0    0  0    0  0\n",
       "     0    0     0     0     0    0    0     0  0  3   0  0  0    0  0    0  0\n",
       "     0    0     0     0     1    2    0  …  0  0  0  56  0  0    0  0    0  0\n",
       "     0    0     1     1     0    1    0     0  0  0   0  2  0    0  0    0  0\n",
       "     0    0     0     0     0    0    0     0  0  0   0  0  3    0  0    0  0\n",
       "     0    0    13    22     4    3    0     0  0  0   0  0  0  274  0    0  0\n",
       "     0    0     0     0     0    0    0     0  0  0   0  0  0    0  1    0  0\n",
       "     0    1     7    18     6    4    1  …  0  0  0   0  0  0    0  0  153  0\n",
       "     0    0     0     0     1    0    0     0  0  0   0  0  0    0  0    0  0"
      ]
     },
     "metadata": {},
     "output_type": "display_data"
    },
    {
     "data": {
      "text/plain": [
       "Classes:  {0,1,2,3,4,5,6,7,8,9  …  22,23,24,25,26,27,28,29,30,60}\n",
       "Matrix:   \n",
       "Accuracy: 0.9280388978930308\n",
       "Kappa:    0.8846820611436211"
      ]
     },
     "execution_count": 24,
     "metadata": {},
     "output_type": "execute_result"
    }
   ],
   "source": [
    "confusion_matrix(signals,predictions)"
   ]
  },
  {
   "cell_type": "markdown",
   "metadata": {},
   "source": [
    "https://github.com/bensadeghi/DecisionTree.jl/tree/83765089feb5b2d30d72046ab78ca044841c827d  \n",
    "http://bensadeghi.com/decision-trees-julia/  \n",
    "http://appliedpredictivemodeling.com/blog/2013/12/8/28rmc2lv96h8fw8700zm4nl50busep  \n"
   ]
  },
  {
   "cell_type": "code",
   "execution_count": null,
   "metadata": {
    "collapsed": true
   },
   "outputs": [],
   "source": []
  }
 ],
 "metadata": {
  "kernelspec": {
   "display_name": "Julia 0.3.9",
   "language": "julia",
   "name": "julia-0.3"
  },
  "language_info": {
   "name": "julia",
   "version": "0.3.9"
  }
 },
 "nbformat": 4,
 "nbformat_minor": 0
}
