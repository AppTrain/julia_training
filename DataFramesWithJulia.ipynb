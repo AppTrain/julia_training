{
 "cells": [
  {
   "cell_type": "code",
   "execution_count": 1,
   "metadata": {
    "collapsed": true
   },
   "outputs": [],
   "source": [
    "#Pkg.add(\"DataFrames\")\n",
    "using DataFrames"
   ]
  },
  {
   "cell_type": "markdown",
   "metadata": {},
   "source": [
    "###DataFrames gives us readtable which loads a csv file into a DatFrame object"
   ]
  },
  {
   "cell_type": "code",
   "execution_count": 16,
   "metadata": {
    "collapsed": false
   },
   "outputs": [
    {
     "data": {
      "text/html": [
       "<table class=\"data-frame\"><tr><th></th><th>Station</th><th>Date</th><th>Tmax</th><th>Tmin</th><th>Tavg</th><th>Depart</th><th>DewPoint</th><th>WetBulb</th><th>Heat</th><th>Cool</th><th>Sunrise</th><th>Sunset</th><th>CodeSum</th><th>Depth</th><th>Water1</th><th>SnowFall</th><th>PrecipTotal</th><th>StnPressure</th><th>SeaLevel</th><th>ResultSpeed</th><th>ResultDir</th><th>AvgSpeed</th></tr><tr><th>1</th><td>1</td><td>2007-05-01</td><td>83</td><td>50</td><td>67</td><td>14</td><td>51</td><td>56</td><td>0</td><td> 2</td><td>0448</td><td>1849</td><td> </td><td>0</td><td>M</td><td>0.0</td><td>0.00</td><td>29.10</td><td>29.82</td><td>1.7</td><td>27</td><td>9.2</td></tr><tr><th>2</th><td>2</td><td>2007-05-01</td><td>84</td><td>52</td><td>68</td><td>M</td><td>51</td><td>57</td><td>0</td><td> 3</td><td>-</td><td>-</td><td> </td><td>M</td><td>M</td><td>M</td><td>0.00</td><td>29.18</td><td>29.82</td><td>2.7</td><td>25</td><td>9.6</td></tr><tr><th>3</th><td>1</td><td>2007-05-02</td><td>59</td><td>42</td><td>51</td><td>-3</td><td>42</td><td>47</td><td>14</td><td> 0</td><td>0447</td><td>1850</td><td>BR</td><td>0</td><td>M</td><td>0.0</td><td>0.00</td><td>29.38</td><td>30.09</td><td>13.0</td><td>4</td><td>13.4</td></tr><tr><th>4</th><td>2</td><td>2007-05-02</td><td>60</td><td>43</td><td>52</td><td>M</td><td>42</td><td>47</td><td>13</td><td> 0</td><td>-</td><td>-</td><td>BR HZ</td><td>M</td><td>M</td><td>M</td><td>0.00</td><td>29.44</td><td>30.08</td><td>13.3</td><td>2</td><td>13.4</td></tr><tr><th>5</th><td>1</td><td>2007-05-03</td><td>66</td><td>46</td><td>56</td><td> 2</td><td>40</td><td>48</td><td>9</td><td> 0</td><td>0446</td><td>1851</td><td> </td><td>0</td><td>M</td><td>0.0</td><td>0.00</td><td>29.39</td><td>30.12</td><td>11.7</td><td>7</td><td>11.9</td></tr><tr><th>6</th><td>2</td><td>2007-05-03</td><td>67</td><td>48</td><td>58</td><td>M</td><td>40</td><td>50</td><td>7</td><td> 0</td><td>-</td><td>-</td><td>HZ</td><td>M</td><td>M</td><td>M</td><td>0.00</td><td>29.46</td><td>30.12</td><td>12.9</td><td>6</td><td>13.2</td></tr><tr><th>7</th><td>1</td><td>2007-05-04</td><td>66</td><td>49</td><td>58</td><td> 4</td><td>41</td><td>50</td><td>7</td><td> 0</td><td>0444</td><td>1852</td><td>RA</td><td>0</td><td>M</td><td>0.0</td><td>  T</td><td>29.31</td><td>30.05</td><td>10.4</td><td>8</td><td>10.8</td></tr><tr><th>8</th><td>2</td><td>2007-05-04</td><td>78</td><td>51</td><td>M</td><td>M</td><td>42</td><td>50</td><td>M</td><td>M</td><td>-</td><td>-</td><td> </td><td>M</td><td>M</td><td>M</td><td>0.00</td><td>29.36</td><td>30.04</td><td>10.1</td><td>7</td><td>10.4</td></tr><tr><th>9</th><td>1</td><td>2007-05-05</td><td>66</td><td>53</td><td>60</td><td> 5</td><td>38</td><td>49</td><td>5</td><td> 0</td><td>0443</td><td>1853</td><td> </td><td>0</td><td>M</td><td>0.0</td><td>  T</td><td>29.40</td><td>30.10</td><td>11.7</td><td>7</td><td>12.0</td></tr><tr><th>10</th><td>2</td><td>2007-05-05</td><td>66</td><td>54</td><td>60</td><td>M</td><td>39</td><td>50</td><td>5</td><td> 0</td><td>-</td><td>-</td><td> </td><td>M</td><td>M</td><td>M</td><td>  T</td><td>29.46</td><td>30.09</td><td>11.2</td><td>7</td><td>11.5</td></tr><tr><th>11</th><td>1</td><td>2007-05-06</td><td>68</td><td>49</td><td>59</td><td> 4</td><td>30</td><td>46</td><td>6</td><td> 0</td><td>0442</td><td>1855</td><td> </td><td>0</td><td>M</td><td>0.0</td><td>0.00</td><td>29.57</td><td>30.29</td><td>14.4</td><td>11</td><td>15.0</td></tr><tr><th>12</th><td>2</td><td>2007-05-06</td><td>68</td><td>52</td><td>60</td><td>M</td><td>30</td><td>46</td><td>5</td><td> 0</td><td>-</td><td>-</td><td> </td><td>M</td><td>M</td><td>M</td><td>0.00</td><td>29.62</td><td>30.28</td><td>13.8</td><td>10</td><td>14.5</td></tr><tr><th>13</th><td>1</td><td>2007-05-07</td><td>83</td><td>47</td><td>65</td><td>10</td><td>41</td><td>54</td><td>0</td><td> 0</td><td>0441</td><td>1856</td><td>RA</td><td>0</td><td>M</td><td>0.0</td><td>  T</td><td>29.38</td><td>30.12</td><td>8.6</td><td>18</td><td>10.5</td></tr><tr><th>14</th><td>2</td><td>2007-05-07</td><td>84</td><td>50</td><td>67</td><td>M</td><td>39</td><td>53</td><td>0</td><td> 2</td><td>-</td><td>-</td><td> </td><td>M</td><td>M</td><td>M</td><td>0.00</td><td>29.44</td><td>30.12</td><td>8.5</td><td>17</td><td>9.9</td></tr><tr><th>15</th><td>1</td><td>2007-05-08</td><td>82</td><td>54</td><td>68</td><td>12</td><td>58</td><td>62</td><td>0</td><td> 3</td><td>0439</td><td>1857</td><td>BR</td><td>0</td><td>M</td><td>0.0</td><td>0.00</td><td>29.29</td><td>30.03</td><td>2.7</td><td>11</td><td>5.8</td></tr><tr><th>16</th><td>2</td><td>2007-05-08</td><td>80</td><td>60</td><td>70</td><td>M</td><td>57</td><td>63</td><td>0</td><td> 5</td><td>-</td><td>-</td><td>HZ</td><td>M</td><td>M</td><td>M</td><td>  T</td><td>29.36</td><td>30.02</td><td>2.5</td><td>8</td><td>5.4</td></tr><tr><th>17</th><td>1</td><td>2007-05-09</td><td>77</td><td>61</td><td>69</td><td>13</td><td>59</td><td>63</td><td>0</td><td> 4</td><td>0438</td><td>1858</td><td>BR HZ</td><td>0</td><td>M</td><td>0.0</td><td>0.13</td><td>29.21</td><td>29.94</td><td>3.9</td><td>9</td><td>6.2</td></tr><tr><th>18</th><td>2</td><td>2007-05-09</td><td>76</td><td>63</td><td>70</td><td>M</td><td>60</td><td>63</td><td>0</td><td> 5</td><td>-</td><td>-</td><td>BR HZ</td><td>M</td><td>M</td><td>M</td><td>0.02</td><td>29.28</td><td>29.93</td><td>3.9</td><td>7</td><td>5.9</td></tr><tr><th>19</th><td>1</td><td>2007-05-10</td><td>84</td><td>56</td><td>70</td><td>14</td><td>52</td><td>60</td><td>0</td><td> 5</td><td>0437</td><td>1859</td><td>BR</td><td>0</td><td>M</td><td>0.0</td><td>0.00</td><td>29.20</td><td>29.92</td><td>0.7</td><td>17</td><td>4.1</td></tr><tr><th>20</th><td>2</td><td>2007-05-10</td><td>83</td><td>59</td><td>71</td><td>M</td><td>52</td><td>61</td><td>0</td><td> 6</td><td>-</td><td>-</td><td>BR HZ</td><td>M</td><td>M</td><td>M</td><td>0.00</td><td>29.26</td><td>29.91</td><td>2.0</td><td>9</td><td>3.9</td></tr><tr><th>21</th><td>1</td><td>2007-05-11</td><td>70</td><td>51</td><td>61</td><td> 4</td><td>42</td><td>51</td><td>4</td><td> 0</td><td>0436</td><td>1860</td><td> </td><td>0</td><td>M</td><td>0.0</td><td>0.00</td><td>29.33</td><td>30.04</td><td>11.3</td><td>3</td><td>12.9</td></tr><tr><th>22</th><td>2</td><td>2007-05-11</td><td>73</td><td>49</td><td>61</td><td>M</td><td>44</td><td>51</td><td>4</td><td> 0</td><td>-</td><td>-</td><td> </td><td>M</td><td>M</td><td>M</td><td>0.00</td><td>29.39</td><td>30.03</td><td>11.7</td><td>36</td><td>12.8</td></tr><tr><th>23</th><td>1</td><td>2007-05-12</td><td>64</td><td>46</td><td>55</td><td>-2</td><td>36</td><td>46</td><td>10</td><td> 0</td><td>0435</td><td>1901</td><td> </td><td>0</td><td>M</td><td>0.0</td><td>0.00</td><td>29.49</td><td>30.20</td><td>12.4</td><td>3</td><td>12.9</td></tr><tr><th>24</th><td>2</td><td>2007-05-12</td><td>65</td><td>47</td><td>56</td><td>M</td><td>37</td><td>46</td><td>9</td><td> 0</td><td>-</td><td>-</td><td> </td><td>M</td><td>M</td><td>M</td><td>0.00</td><td>29.54</td><td>30.19</td><td>12.7</td><td>1</td><td>13.0</td></tr><tr><th>25</th><td>1</td><td>2007-05-13</td><td>69</td><td>43</td><td>56</td><td>-2</td><td>33</td><td>46</td><td>9</td><td> 0</td><td>0434</td><td>1902</td><td> </td><td>0</td><td>M</td><td>0.0</td><td>0.00</td><td>29.49</td><td>30.24</td><td>6.6</td><td>14</td><td>8.1</td></tr><tr><th>26</th><td>2</td><td>2007-05-13</td><td>69</td><td>44</td><td>57</td><td>M</td><td>32</td><td>46</td><td>8</td><td> 0</td><td>-</td><td>-</td><td> </td><td>M</td><td>M</td><td>M</td><td>0.00</td><td>29.55</td><td>30.24</td><td>6.4</td><td>11</td><td>7.6</td></tr><tr><th>27</th><td>1</td><td>2007-05-14</td><td>90</td><td>56</td><td>73</td><td>15</td><td>47</td><td>59</td><td>0</td><td> 8</td><td>0433</td><td>1903</td><td> </td><td>0</td><td>M</td><td>0.0</td><td>0.00</td><td>29.23</td><td>29.97</td><td>16.9</td><td>21</td><td>17.3</td></tr><tr><th>28</th><td>2</td><td>2007-05-14</td><td>90</td><td>54</td><td>72</td><td>M</td><td>45</td><td>58</td><td>0</td><td> 7</td><td>-</td><td>-</td><td> </td><td>M</td><td>M</td><td>M</td><td>0.00</td><td>29.31</td><td>29.98</td><td>14.1</td><td>21</td><td>14.6</td></tr><tr><th>29</th><td>1</td><td>2007-05-15</td><td>80</td><td>57</td><td>69</td><td>11</td><td>56</td><td>61</td><td>0</td><td> 4</td><td>0432</td><td>1904</td><td>RA BR</td><td>0</td><td>M</td><td>0.0</td><td>0.38</td><td>29.13</td><td>29.84</td><td>8.1</td><td>27</td><td>12.3</td></tr><tr><th>30</th><td>2</td><td>2007-05-15</td><td>82</td><td>56</td><td>69</td><td>M</td><td>56</td><td>61</td><td>0</td><td> 4</td><td>-</td><td>-</td><td>TSRA RA BR</td><td>M</td><td>M</td><td>M</td><td>0.60</td><td>29.19</td><td>29.83</td><td>8.1</td><td>25</td><td>10.8</td></tr><tr><th>&vellip;</th><td>&vellip;</td><td>&vellip;</td><td>&vellip;</td><td>&vellip;</td><td>&vellip;</td><td>&vellip;</td><td>&vellip;</td><td>&vellip;</td><td>&vellip;</td><td>&vellip;</td><td>&vellip;</td><td>&vellip;</td><td>&vellip;</td><td>&vellip;</td><td>&vellip;</td><td>&vellip;</td><td>&vellip;</td><td>&vellip;</td><td>&vellip;</td><td>&vellip;</td><td>&vellip;</td><td>&vellip;</td></tr></table>"
      ],
      "text/plain": [
       "2944x22 DataFrame\n",
       "| Row  | Station | Date         | Tmax | Tmin | Tavg | Depart | DewPoint |\n",
       "|------|---------|--------------|------|------|------|--------|----------|\n",
       "| 1    | 1       | \"2007-05-01\" | 83   | 50   | \"67\" | \"14\"   | 51       |\n",
       "| 2    | 2       | \"2007-05-01\" | 84   | 52   | \"68\" | \"M\"    | 51       |\n",
       "| 3    | 1       | \"2007-05-02\" | 59   | 42   | \"51\" | \"-3\"   | 42       |\n",
       "| 4    | 2       | \"2007-05-02\" | 60   | 43   | \"52\" | \"M\"    | 42       |\n",
       "| 5    | 1       | \"2007-05-03\" | 66   | 46   | \"56\" | \" 2\"   | 40       |\n",
       "| 6    | 2       | \"2007-05-03\" | 67   | 48   | \"58\" | \"M\"    | 40       |\n",
       "| 7    | 1       | \"2007-05-04\" | 66   | 49   | \"58\" | \" 4\"   | 41       |\n",
       "| 8    | 2       | \"2007-05-04\" | 78   | 51   | \"M\"  | \"M\"    | 42       |\n",
       "| 9    | 1       | \"2007-05-05\" | 66   | 53   | \"60\" | \" 5\"   | 38       |\n",
       "| 10   | 2       | \"2007-05-05\" | 66   | 54   | \"60\" | \"M\"    | 39       |\n",
       "| 11   | 1       | \"2007-05-06\" | 68   | 49   | \"59\" | \" 4\"   | 30       |\n",
       "⋮\n",
       "| 2933 | 1       | \"2014-10-26\" | 64   | 42   | \"53\" | \" 5\"   | 32       |\n",
       "| 2934 | 2       | \"2014-10-26\" | 66   | 44   | \"55\" | \"M\"    | 33       |\n",
       "| 2935 | 1       | \"2014-10-27\" | 77   | 51   | \"64\" | \"16\"   | 51       |\n",
       "| 2936 | 2       | \"2014-10-27\" | 79   | 54   | \"67\" | \"M\"    | 52       |\n",
       "| 2937 | 1       | \"2014-10-28\" | 68   | 45   | \"57\" | \"10\"   | 38       |\n",
       "| 2938 | 2       | \"2014-10-28\" | 66   | 48   | \"57\" | \"M\"    | 40       |\n",
       "| 2939 | 1       | \"2014-10-29\" | 49   | 36   | \"43\" | \"-4\"   | 32       |\n",
       "| 2940 | 2       | \"2014-10-29\" | 49   | 40   | \"45\" | \"M\"    | 34       |\n",
       "| 2941 | 1       | \"2014-10-30\" | 51   | 32   | \"42\" | \"-4\"   | 34       |\n",
       "| 2942 | 2       | \"2014-10-30\" | 53   | 37   | \"45\" | \"M\"    | 35       |\n",
       "| 2943 | 1       | \"2014-10-31\" | 47   | 33   | \"40\" | \"-6\"   | 25       |\n",
       "| 2944 | 2       | \"2014-10-31\" | 49   | 34   | \"42\" | \"M\"    | 29       |\n",
       "\n",
       "| Row  | WetBulb | Heat | Cool | Sunrise | Sunset | CodeSum    | Depth |\n",
       "|------|---------|------|------|---------|--------|------------|-------|\n",
       "| 1    | \"56\"    | \"0\"  | \" 2\" | \"0448\"  | \"1849\" | \" \"        | \"0\"   |\n",
       "| 2    | \"57\"    | \"0\"  | \" 3\" | \"-\"     | \"-\"    | \" \"        | \"M\"   |\n",
       "| 3    | \"47\"    | \"14\" | \" 0\" | \"0447\"  | \"1850\" | \"BR\"       | \"0\"   |\n",
       "| 4    | \"47\"    | \"13\" | \" 0\" | \"-\"     | \"-\"    | \"BR HZ\"    | \"M\"   |\n",
       "| 5    | \"48\"    | \"9\"  | \" 0\" | \"0446\"  | \"1851\" | \" \"        | \"0\"   |\n",
       "| 6    | \"50\"    | \"7\"  | \" 0\" | \"-\"     | \"-\"    | \"HZ\"       | \"M\"   |\n",
       "| 7    | \"50\"    | \"7\"  | \" 0\" | \"0444\"  | \"1852\" | \"RA\"       | \"0\"   |\n",
       "| 8    | \"50\"    | \"M\"  | \"M\"  | \"-\"     | \"-\"    | \" \"        | \"M\"   |\n",
       "| 9    | \"49\"    | \"5\"  | \" 0\" | \"0443\"  | \"1853\" | \" \"        | \"0\"   |\n",
       "| 10   | \"50\"    | \"5\"  | \" 0\" | \"-\"     | \"-\"    | \" \"        | \"M\"   |\n",
       "| 11   | \"46\"    | \"6\"  | \" 0\" | \"0442\"  | \"1855\" | \" \"        | \"0\"   |\n",
       "⋮\n",
       "| 2933 | \"44\"    | \"12\" | \" 0\" | \"0617\"  | \"1654\" | \" \"        | \"0\"   |\n",
       "| 2934 | \"45\"    | \"10\" | \" 0\" | \"-\"     | \"-\"    | \" \"        | \"M\"   |\n",
       "| 2935 | \"58\"    | \"1\"  | \" 0\" | \"0618\"  | \"1653\" | \" \"        | \"0\"   |\n",
       "| 2936 | \"59\"    | \"0\"  | \" 2\" | \"-\"     | \"-\"    | \"RA\"       | \"M\"   |\n",
       "| 2937 | \"47\"    | \"8\"  | \" 0\" | \"0619\"  | \"1651\" | \" \"        | \"0\"   |\n",
       "| 2938 | \"48\"    | \"8\"  | \" 0\" | \"-\"     | \"-\"    | \"RA\"       | \"M\"   |\n",
       "| 2939 | \"40\"    | \"22\" | \" 0\" | \"0620\"  | \"1650\" | \" \"        | \"0\"   |\n",
       "| 2940 | \"42\"    | \"20\" | \" 0\" | \"-\"     | \"-\"    | \" \"        | \"M\"   |\n",
       "| 2941 | \"40\"    | \"23\" | \" 0\" | \"0622\"  | \"1649\" | \" \"        | \"0\"   |\n",
       "| 2942 | \"42\"    | \"20\" | \" 0\" | \"-\"     | \"-\"    | \"RA\"       | \"M\"   |\n",
       "| 2943 | \"33\"    | \"25\" | \" 0\" | \"0623\"  | \"1647\" | \"RA SN\"    | \"0\"   |\n",
       "| 2944 | \"36\"    | \"23\" | \" 0\" | \"-\"     | \"-\"    | \"RA SN BR\" | \"M\"   |\n",
       "\n",
       "| Row  | Water1 | SnowFall | PrecipTotal | StnPressure | SeaLevel |\n",
       "|------|--------|----------|-------------|-------------|----------|\n",
       "| 1    | \"M\"    | \"0.0\"    | \"0.00\"      | \"29.10\"     | \"29.82\"  |\n",
       "| 2    | \"M\"    | \"M\"      | \"0.00\"      | \"29.18\"     | \"29.82\"  |\n",
       "| 3    | \"M\"    | \"0.0\"    | \"0.00\"      | \"29.38\"     | \"30.09\"  |\n",
       "| 4    | \"M\"    | \"M\"      | \"0.00\"      | \"29.44\"     | \"30.08\"  |\n",
       "| 5    | \"M\"    | \"0.0\"    | \"0.00\"      | \"29.39\"     | \"30.12\"  |\n",
       "| 6    | \"M\"    | \"M\"      | \"0.00\"      | \"29.46\"     | \"30.12\"  |\n",
       "| 7    | \"M\"    | \"0.0\"    | \"  T\"       | \"29.31\"     | \"30.05\"  |\n",
       "| 8    | \"M\"    | \"M\"      | \"0.00\"      | \"29.36\"     | \"30.04\"  |\n",
       "| 9    | \"M\"    | \"0.0\"    | \"  T\"       | \"29.40\"     | \"30.10\"  |\n",
       "| 10   | \"M\"    | \"M\"      | \"  T\"       | \"29.46\"     | \"30.09\"  |\n",
       "| 11   | \"M\"    | \"0.0\"    | \"0.00\"      | \"29.57\"     | \"30.29\"  |\n",
       "⋮\n",
       "| 2933 | \"M\"    | \"0.0\"    | \"0.00\"      | \"29.21\"     | \"29.95\"  |\n",
       "| 2934 | \"M\"    | \"M\"      | \"0.00\"      | \"29.28\"     | \"29.95\"  |\n",
       "| 2935 | \"M\"    | \"0.0\"    | \"0.00\"      | \"28.92\"     | \"29.66\"  |\n",
       "| 2936 | \"M\"    | \"M\"      | \"0.02\"      | \"29.00\"     | \"29.67\"  |\n",
       "| 2937 | \"M\"    | \"0.0\"    | \"  T\"       | \"29.15\"     | \"29.85\"  |\n",
       "| 2938 | \"M\"    | \"M\"      | \"0.03\"      | \"29.23\"     | \"29.85\"  |\n",
       "| 2939 | \"M\"    | \"0.0\"    | \"0.00\"      | \"29.36\"     | \"30.06\"  |\n",
       "| 2940 | \"M\"    | \"M\"      | \"0.00\"      | \"29.42\"     | \"30.07\"  |\n",
       "| 2941 | \"M\"    | \"0.0\"    | \"0.00\"      | \"29.34\"     | \"30.09\"  |\n",
       "| 2942 | \"M\"    | \"M\"      | \"  T\"       | \"29.41\"     | \"30.10\"  |\n",
       "| 2943 | \"M\"    | \"0.1\"    | \"0.03\"      | \"29.49\"     | \"30.20\"  |\n",
       "| 2944 | \"M\"    | \"M\"      | \"0.04\"      | \"29.54\"     | \"30.20\"  |\n",
       "\n",
       "| Row  | ResultSpeed | ResultDir | AvgSpeed |\n",
       "|------|-------------|-----------|----------|\n",
       "| 1    | 1.7         | 27        | \"9.2\"    |\n",
       "| 2    | 2.7         | 25        | \"9.6\"    |\n",
       "| 3    | 13.0        | 4         | \"13.4\"   |\n",
       "| 4    | 13.3        | 2         | \"13.4\"   |\n",
       "| 5    | 11.7        | 7         | \"11.9\"   |\n",
       "| 6    | 12.9        | 6         | \"13.2\"   |\n",
       "| 7    | 10.4        | 8         | \"10.8\"   |\n",
       "| 8    | 10.1        | 7         | \"10.4\"   |\n",
       "| 9    | 11.7        | 7         | \"12.0\"   |\n",
       "| 10   | 11.2        | 7         | \"11.5\"   |\n",
       "| 11   | 14.4        | 11        | \"15.0\"   |\n",
       "⋮\n",
       "| 2933 | 0.9         | 5         | \"5.8\"    |\n",
       "| 2934 | 1.6         | 11        | \"5.4\"    |\n",
       "| 2935 | 12.0        | 19        | \"12.9\"   |\n",
       "| 2936 | 12.7        | 19        | \"13.6\"   |\n",
       "| 2937 | 14.8        | 26        | \"15.6\"   |\n",
       "| 2938 | 14.0        | 26        | \"14.6\"   |\n",
       "| 2939 | 9.5         | 29        | \"9.9\"    |\n",
       "| 2940 | 8.5         | 29        | \"9.0\"    |\n",
       "| 2941 | 5.1         | 24        | \"5.5\"    |\n",
       "| 2942 | 5.9         | 23        | \"6.5\"    |\n",
       "| 2943 | 22.6        | 34        | \"22.9\"   |\n",
       "| 2944 | 21.7        | 34        | \"22.6\"   |"
      ]
     },
     "execution_count": 16,
     "metadata": {},
     "output_type": "execute_result"
    }
   ],
   "source": [
    " df = readtable(\"input/weather.csv\")"
   ]
  },
  {
   "cell_type": "markdown",
   "metadata": {},
   "source": [
    "###DataFrames can be subset by rows or columns"
   ]
  },
  {
   "cell_type": "code",
   "execution_count": 4,
   "metadata": {
    "collapsed": false
   },
   "outputs": [
    {
     "data": {
      "text/html": [
       "<table class=\"data-frame\"><tr><th></th><th>Date</th><th>Tmax</th><th>Tmin</th><th>Tavg</th><th>Depart</th><th>DewPoint</th><th>WetBulb</th><th>Heat</th><th>Cool</th></tr><tr><th>1</th><td>2007-05-01</td><td>83</td><td>50</td><td>67</td><td>14</td><td>51</td><td>56</td><td>0</td><td> 2</td></tr><tr><th>2</th><td>2007-05-01</td><td>84</td><td>52</td><td>68</td><td>M</td><td>51</td><td>57</td><td>0</td><td> 3</td></tr></table>"
      ],
      "text/plain": [
       "2x9 DataFrame\n",
       "| Row | Date         | Tmax | Tmin | Tavg | Depart | DewPoint | WetBulb | Heat |\n",
       "|-----|--------------|------|------|------|--------|----------|---------|------|\n",
       "| 1   | \"2007-05-01\" | 83   | 50   | \"67\" | \"14\"   | 51       | \"56\"    | \"0\"  |\n",
       "| 2   | \"2007-05-01\" | 84   | 52   | \"68\" | \"M\"    | 51       | \"57\"    | \"0\"  |\n",
       "\n",
       "| Row | Cool |\n",
       "|-----|------|\n",
       "| 1   | \" 2\" |\n",
       "| 2   | \" 3\" |"
      ]
     },
     "execution_count": 4,
     "metadata": {},
     "output_type": "execute_result"
    }
   ],
   "source": [
    "df[1:1]\n",
    "df[2:10]\n",
    "df[1:2,2:10]"
   ]
  },
  {
   "cell_type": "code",
   "execution_count": 9,
   "metadata": {
    "collapsed": false
   },
   "outputs": [
    {
     "data": {
      "text/plain": [
       "22-element Array{Symbol,1}:\n",
       " :Station    \n",
       " :Date       \n",
       " :Tmax       \n",
       " :Tmin       \n",
       " :Tavg       \n",
       " :Depart     \n",
       " :DewPoint   \n",
       " :WetBulb    \n",
       " :Heat       \n",
       " :Cool       \n",
       " :Sunrise    \n",
       " :Sunset     \n",
       " :CodeSum    \n",
       " :Depth      \n",
       " :Water1     \n",
       " :SnowFall   \n",
       " :PrecipTotal\n",
       " :StnPressure\n",
       " :SeaLevel   \n",
       " :ResultSpeed\n",
       " :ResultDir  \n",
       " :AvgSpeed   "
      ]
     },
     "execution_count": 9,
     "metadata": {},
     "output_type": "execute_result"
    }
   ],
   "source": [
    "names(df)\n",
    "\n"
   ]
  },
  {
   "cell_type": "code",
   "execution_count": 10,
   "metadata": {
    "collapsed": false
   },
   "outputs": [
    {
     "data": {
      "text/plain": [
       "2944-element DataArray{UTF8String,1}:\n",
       " \"2007-05-01\"\n",
       " \"2007-05-01\"\n",
       " \"2007-05-02\"\n",
       " \"2007-05-02\"\n",
       " \"2007-05-03\"\n",
       " \"2007-05-03\"\n",
       " \"2007-05-04\"\n",
       " \"2007-05-04\"\n",
       " \"2007-05-05\"\n",
       " \"2007-05-05\"\n",
       " \"2007-05-06\"\n",
       " \"2007-05-06\"\n",
       " \"2007-05-07\"\n",
       " ⋮           \n",
       " \"2014-10-26\"\n",
       " \"2014-10-26\"\n",
       " \"2014-10-27\"\n",
       " \"2014-10-27\"\n",
       " \"2014-10-28\"\n",
       " \"2014-10-28\"\n",
       " \"2014-10-29\"\n",
       " \"2014-10-29\"\n",
       " \"2014-10-30\"\n",
       " \"2014-10-30\"\n",
       " \"2014-10-31\"\n",
       " \"2014-10-31\""
      ]
     },
     "execution_count": 10,
     "metadata": {},
     "output_type": "execute_result"
    }
   ],
   "source": [
    "rename!(df,:Date,:Day)\n",
    "df[:Day]\n",
    "\n"
   ]
  },
  {
   "cell_type": "markdown",
   "metadata": {},
   "source": [
    "###Can also use symbols as column names"
   ]
  },
  {
   "cell_type": "code",
   "execution_count": 27,
   "metadata": {
    "collapsed": false
   },
   "outputs": [
    {
     "data": {
      "text/html": [
       "<table class=\"data-frame\"><tr><th></th><th>Tmax</th><th>Depart</th></tr><tr><th>1</th><td>83</td><td>14</td></tr><tr><th>2</th><td>84</td><td>M</td></tr><tr><th>3</th><td>59</td><td>-3</td></tr><tr><th>4</th><td>60</td><td>M</td></tr><tr><th>5</th><td>66</td><td> 2</td></tr><tr><th>6</th><td>67</td><td>M</td></tr><tr><th>7</th><td>66</td><td> 4</td></tr><tr><th>8</th><td>78</td><td>M</td></tr><tr><th>9</th><td>66</td><td> 5</td></tr><tr><th>10</th><td>66</td><td>M</td></tr><tr><th>11</th><td>68</td><td> 4</td></tr><tr><th>12</th><td>68</td><td>M</td></tr><tr><th>13</th><td>83</td><td>10</td></tr><tr><th>14</th><td>84</td><td>M</td></tr><tr><th>15</th><td>82</td><td>12</td></tr><tr><th>16</th><td>80</td><td>M</td></tr><tr><th>17</th><td>77</td><td>13</td></tr><tr><th>18</th><td>76</td><td>M</td></tr><tr><th>19</th><td>84</td><td>14</td></tr><tr><th>20</th><td>83</td><td>M</td></tr><tr><th>21</th><td>70</td><td> 4</td></tr><tr><th>22</th><td>73</td><td>M</td></tr><tr><th>23</th><td>64</td><td>-2</td></tr><tr><th>24</th><td>65</td><td>M</td></tr><tr><th>25</th><td>69</td><td>-2</td></tr><tr><th>26</th><td>69</td><td>M</td></tr><tr><th>27</th><td>90</td><td>15</td></tr><tr><th>28</th><td>90</td><td>M</td></tr><tr><th>29</th><td>80</td><td>11</td></tr><tr><th>30</th><td>82</td><td>M</td></tr><tr><th>&vellip;</th><td>&vellip;</td><td>&vellip;</td></tr></table>"
      ],
      "text/plain": [
       "2944x2 DataFrame\n",
       "| Row  | Tmax | Depart |\n",
       "|------|------|--------|\n",
       "| 1    | 83   | \"14\"   |\n",
       "| 2    | 84   | \"M\"    |\n",
       "| 3    | 59   | \"-3\"   |\n",
       "| 4    | 60   | \"M\"    |\n",
       "| 5    | 66   | \" 2\"   |\n",
       "| 6    | 67   | \"M\"    |\n",
       "| 7    | 66   | \" 4\"   |\n",
       "| 8    | 78   | \"M\"    |\n",
       "| 9    | 66   | \" 5\"   |\n",
       "| 10   | 66   | \"M\"    |\n",
       "| 11   | 68   | \" 4\"   |\n",
       "⋮\n",
       "| 2933 | 64   | \" 5\"   |\n",
       "| 2934 | 66   | \"M\"    |\n",
       "| 2935 | 77   | \"16\"   |\n",
       "| 2936 | 79   | \"M\"    |\n",
       "| 2937 | 68   | \"10\"   |\n",
       "| 2938 | 66   | \"M\"    |\n",
       "| 2939 | 49   | \"-4\"   |\n",
       "| 2940 | 49   | \"M\"    |\n",
       "| 2941 | 51   | \"-4\"   |\n",
       "| 2942 | 53   | \"M\"    |\n",
       "| 2943 | 47   | \"-6\"   |\n",
       "| 2944 | 49   | \"M\"    |"
      ]
     },
     "execution_count": 27,
     "metadata": {},
     "output_type": "execute_result"
    }
   ],
   "source": [
    "df[:,[:Tmax,:Depart]]"
   ]
  },
  {
   "cell_type": "markdown",
   "metadata": {},
   "source": [
    "### Rows can be selected using selection criteria"
   ]
  },
  {
   "cell_type": "code",
   "execution_count": 11,
   "metadata": {
    "collapsed": false
   },
   "outputs": [
    {
     "data": {
      "text/html": [
       "<table class=\"data-frame\"><tr><th></th><th>Station</th><th>Day</th><th>Tmax</th><th>Tmin</th><th>Tavg</th><th>Depart</th><th>DewPoint</th><th>WetBulb</th><th>Heat</th><th>Cool</th><th>Sunrise</th><th>Sunset</th><th>CodeSum</th><th>Depth</th><th>Water1</th><th>SnowFall</th><th>PrecipTotal</th><th>StnPressure</th><th>SeaLevel</th><th>ResultSpeed</th><th>ResultDir</th><th>AvgSpeed</th></tr></table>"
      ],
      "text/plain": [
       "0x22 DataFrame\n"
      ]
     },
     "execution_count": 11,
     "metadata": {},
     "output_type": "execute_result"
    }
   ],
   "source": [
    "df[df[:Tavg].==68,:]"
   ]
  },
  {
   "cell_type": "code",
   "execution_count": 30,
   "metadata": {
    "collapsed": false
   },
   "outputs": [
    {
     "data": {
      "text/plain": [
       "11-element DataArray{UTF8String,1}:\n",
       " \"M\"\n",
       " \"M\"\n",
       " \"M\"\n",
       " \"M\"\n",
       " \"M\"\n",
       " \"M\"\n",
       " \"M\"\n",
       " \"M\"\n",
       " \"M\"\n",
       " \"M\"\n",
       " \"M\""
      ]
     },
     "execution_count": 30,
     "metadata": {},
     "output_type": "execute_result"
    }
   ],
   "source": [
    "df[df[:Cool].==\"M\",:Cool] "
   ]
  },
  {
   "cell_type": "markdown",
   "metadata": {},
   "source": [
    "###you can assing a value to each element of a DataArray"
   ]
  },
  {
   "cell_type": "code",
   "execution_count": 31,
   "metadata": {
    "collapsed": false
   },
   "outputs": [
    {
     "ename": "TypeError",
     "evalue": "type: non-boolean (NAtype) used in boolean context",
     "output_type": "error",
     "traceback": [
      "type: non-boolean (NAtype) used in boolean context",
      ""
     ]
    }
   ],
   "source": [
    "df[df[:Cool].==\"M\",:Cool] = NA"
   ]
  },
  {
   "cell_type": "markdown",
   "metadata": {},
   "source": [
    "###Here we change all \"M\" values to NA"
   ]
  },
  {
   "cell_type": "code",
   "execution_count": 6,
   "metadata": {
    "collapsed": true
   },
   "outputs": [],
   "source": [
    "df = readtable(\"input/weather.csv\")\n",
    "for name in names(df)\n",
    "  df[df[name].==\"M\",name] = NA\n",
    "end"
   ]
  },
  {
   "cell_type": "markdown",
   "metadata": {},
   "source": [
    "###The RDatasets package provides plenty of Data to play with"
   ]
  },
  {
   "cell_type": "code",
   "execution_count": 21,
   "metadata": {
    "collapsed": true
   },
   "outputs": [],
   "source": [
    "using RDatasets"
   ]
  },
  {
   "cell_type": "code",
   "execution_count": 22,
   "metadata": {
    "collapsed": false
   },
   "outputs": [
    {
     "data": {
      "text/html": [
       "<table class=\"data-frame\"><tr><th></th><th>Package</th><th>Title</th></tr><tr><th>1</th><td>COUNT</td><td>Functions, data and code for count data.</td></tr><tr><th>2</th><td>Ecdat</td><td>Data sets for econometrics</td></tr><tr><th>3</th><td>HSAUR</td><td>A Handbook of Statistical Analyses Using R (1st Edition)</td></tr><tr><th>4</th><td>HistData</td><td>Data sets from the history of statistics and data visualization</td></tr><tr><th>5</th><td>ISLR</td><td>Data for An Introduction to Statistical Learning with Applications in R</td></tr><tr><th>6</th><td>KMsurv</td><td>Data sets from Klein and Moeschberger (1997), Survival Analysis</td></tr><tr><th>7</th><td>MASS</td><td>Support Functions and Datasets for Venables and Ripley's MASS</td></tr><tr><th>8</th><td>SASmixed</td><td>Data sets from \"SAS System for Mixed Models\"</td></tr><tr><th>9</th><td>Zelig</td><td>Everyone's Statistical Software</td></tr><tr><th>10</th><td>adehabitatLT</td><td>Analysis of Animal Movements</td></tr><tr><th>11</th><td>boot</td><td>Bootstrap Functions (Originally by Angelo Canty for S)</td></tr><tr><th>12</th><td>car</td><td>Companion to Applied Regression</td></tr><tr><th>13</th><td>cluster</td><td>Cluster Analysis Extended Rousseeuw et al.</td></tr><tr><th>14</th><td>datasets</td><td>The R Datasets Package</td></tr><tr><th>15</th><td>gap</td><td>Genetic analysis package</td></tr><tr><th>16</th><td>ggplot2</td><td>An Implementation of the Grammar of Graphics</td></tr><tr><th>17</th><td>lattice</td><td>Lattice Graphics</td></tr><tr><th>18</th><td>lme4</td><td>Linear mixed-effects models using Eigen and S4</td></tr><tr><th>19</th><td>mgcv</td><td>Mixed GAM Computation Vehicle with GCV/AIC/REML smoothness estimation</td></tr><tr><th>20</th><td>mlmRev</td><td>Examples from Multilevel Modelling Software Review</td></tr><tr><th>21</th><td>nlreg</td><td>Higher Order Inference for Nonlinear Heteroscedastic Models</td></tr><tr><th>22</th><td>plm</td><td>Linear Models for Panel Data</td></tr><tr><th>23</th><td>plyr</td><td>Tools for splitting, applying and combining data</td></tr><tr><th>24</th><td>pscl</td><td>Political Science Computational Laboratory, Stanford University</td></tr><tr><th>25</th><td>psych</td><td>Procedures for Psychological, Psychometric, and Personality Research</td></tr><tr><th>26</th><td>quantreg</td><td>Quantile Regression</td></tr><tr><th>27</th><td>reshape2</td><td>Flexibly Reshape Data: A Reboot of the Reshape Package.</td></tr><tr><th>28</th><td>robustbase</td><td>Basic Robust Statistics</td></tr><tr><th>29</th><td>rpart</td><td>Recursive Partitioning and Regression Trees</td></tr><tr><th>30</th><td>sandwich</td><td>Robust Covariance Matrix Estimators</td></tr><tr><th>&vellip;</th><td>&vellip;</td><td>&vellip;</td></tr></table>"
      ],
      "text/plain": [
       "33x2 DataFrame\n",
       "| Row | Package        |\n",
       "|-----|----------------|\n",
       "| 1   | \"COUNT\"        |\n",
       "| 2   | \"Ecdat\"        |\n",
       "| 3   | \"HSAUR\"        |\n",
       "| 4   | \"HistData\"     |\n",
       "| 5   | \"ISLR\"         |\n",
       "| 6   | \"KMsurv\"       |\n",
       "| 7   | \"MASS\"         |\n",
       "| 8   | \"SASmixed\"     |\n",
       "| 9   | \"Zelig\"        |\n",
       "| 10  | \"adehabitatLT\" |\n",
       "| 11  | \"boot\"         |\n",
       "⋮\n",
       "| 22  | \"plm\"          |\n",
       "| 23  | \"plyr\"         |\n",
       "| 24  | \"pscl\"         |\n",
       "| 25  | \"psych\"        |\n",
       "| 26  | \"quantreg\"     |\n",
       "| 27  | \"reshape2\"     |\n",
       "| 28  | \"robustbase\"   |\n",
       "| 29  | \"rpart\"        |\n",
       "| 30  | \"sandwich\"     |\n",
       "| 31  | \"sem\"          |\n",
       "| 32  | \"survival\"     |\n",
       "| 33  | \"vcd\"          |\n",
       "\n",
       "| Row | Title                                                                     |\n",
       "|-----|---------------------------------------------------------------------------|\n",
       "| 1   | \"Functions, data and code for count data.\"                                |\n",
       "| 2   | \"Data sets for econometrics\"                                              |\n",
       "| 3   | \"A Handbook of Statistical Analyses Using R (1st Edition)\"                |\n",
       "| 4   | \"Data sets from the history of statistics and data visualization\"         |\n",
       "| 5   | \"Data for An Introduction to Statistical Learning with Applications in R\" |\n",
       "| 6   | \"Data sets from Klein and Moeschberger (1997), Survival Analysis\"         |\n",
       "| 7   | \"Support Functions and Datasets for Venables and Ripley's MASS\"           |\n",
       "| 8   | \"Data sets from \\\"SAS System for Mixed Models\\\"\"                            |\n",
       "| 9   | \"Everyone's Statistical Software\"                                         |\n",
       "| 10  | \"Analysis of Animal Movements\"                                            |\n",
       "| 11  | \"Bootstrap Functions (Originally by Angelo Canty for S)\"                  |\n",
       "⋮\n",
       "| 22  | \"Linear Models for Panel Data\"                                            |\n",
       "| 23  | \"Tools for splitting, applying and combining data\"                        |\n",
       "| 24  | \"Political Science Computational Laboratory, Stanford University\"         |\n",
       "| 25  | \"Procedures for Psychological, Psychometric, and Personality Research\"    |\n",
       "| 26  | \"Quantile Regression\"                                                     |\n",
       "| 27  | \"Flexibly Reshape Data: A Reboot of the Reshape Package.\"                 |\n",
       "| 28  | \"Basic Robust Statistics\"                                                 |\n",
       "| 29  | \"Recursive Partitioning and Regression Trees\"                             |\n",
       "| 30  | \"Robust Covariance Matrix Estimators\"                                     |\n",
       "| 31  | \"Structural Equation Models\"                                              |\n",
       "| 32  | \"Survival Analysis\"                                                       |\n",
       "| 33  | \"Visualizing Categorical Data\"                                            |"
      ]
     },
     "execution_count": 22,
     "metadata": {},
     "output_type": "execute_result"
    }
   ],
   "source": [
    "RDatasets.packages()"
   ]
  },
  {
   "cell_type": "code",
   "execution_count": 23,
   "metadata": {
    "collapsed": false
   },
   "outputs": [
    {
     "data": {
      "text/html": [
       "<table class=\"data-frame\"><tr><th></th><th>Package</th><th>Dataset</th><th>Title</th><th>Rows</th><th>Columns</th></tr><tr><th>1</th><td>COUNT</td><td>affairs</td><td>affairs</td><td>601</td><td>18</td></tr><tr><th>2</th><td>COUNT</td><td>azdrg112</td><td>azdrg112</td><td>1798</td><td>4</td></tr><tr><th>3</th><td>COUNT</td><td>azpro</td><td>azpro</td><td>3589</td><td>6</td></tr><tr><th>4</th><td>COUNT</td><td>badhealth</td><td>badhealth</td><td>1127</td><td>3</td></tr><tr><th>5</th><td>COUNT</td><td>fasttrakg</td><td>fasttrakg</td><td>15</td><td>9</td></tr><tr><th>6</th><td>COUNT</td><td>lbw</td><td>lbw</td><td>189</td><td>10</td></tr><tr><th>7</th><td>COUNT</td><td>lbwgrp</td><td>lbwgrp</td><td>6</td><td>7</td></tr><tr><th>8</th><td>COUNT</td><td>loomis</td><td>loomis</td><td>410</td><td>11</td></tr><tr><th>9</th><td>COUNT</td><td>mdvis</td><td>mdvis</td><td>2227</td><td>13</td></tr><tr><th>10</th><td>COUNT</td><td>medpar</td><td>medpar</td><td>1495</td><td>10</td></tr><tr><th>11</th><td>COUNT</td><td>rwm</td><td>rwm</td><td>27326</td><td>4</td></tr><tr><th>12</th><td>COUNT</td><td>rwm5yr</td><td>rwm5yr</td><td>19609</td><td>17</td></tr><tr><th>13</th><td>COUNT</td><td>ships</td><td>ships</td><td>40</td><td>7</td></tr><tr><th>14</th><td>COUNT</td><td>titanic</td><td>titanic</td><td>1316</td><td>4</td></tr><tr><th>15</th><td>COUNT</td><td>titanicgrp</td><td>titanicgrp</td><td>12</td><td>5</td></tr></table>"
      ],
      "text/plain": [
       "15x5 DataFrame\n",
       "| Row | Package | Dataset      | Title        | Rows  | Columns |\n",
       "|-----|---------|--------------|--------------|-------|---------|\n",
       "| 1   | \"COUNT\" | \"affairs\"    | \"affairs\"    | 601   | 18      |\n",
       "| 2   | \"COUNT\" | \"azdrg112\"   | \"azdrg112\"   | 1798  | 4       |\n",
       "| 3   | \"COUNT\" | \"azpro\"      | \"azpro\"      | 3589  | 6       |\n",
       "| 4   | \"COUNT\" | \"badhealth\"  | \"badhealth\"  | 1127  | 3       |\n",
       "| 5   | \"COUNT\" | \"fasttrakg\"  | \"fasttrakg\"  | 15    | 9       |\n",
       "| 6   | \"COUNT\" | \"lbw\"        | \"lbw\"        | 189   | 10      |\n",
       "| 7   | \"COUNT\" | \"lbwgrp\"     | \"lbwgrp\"     | 6     | 7       |\n",
       "| 8   | \"COUNT\" | \"loomis\"     | \"loomis\"     | 410   | 11      |\n",
       "| 9   | \"COUNT\" | \"mdvis\"      | \"mdvis\"      | 2227  | 13      |\n",
       "| 10  | \"COUNT\" | \"medpar\"     | \"medpar\"     | 1495  | 10      |\n",
       "| 11  | \"COUNT\" | \"rwm\"        | \"rwm\"        | 27326 | 4       |\n",
       "| 12  | \"COUNT\" | \"rwm5yr\"     | \"rwm5yr\"     | 19609 | 17      |\n",
       "| 13  | \"COUNT\" | \"ships\"      | \"ships\"      | 40    | 7       |\n",
       "| 14  | \"COUNT\" | \"titanic\"    | \"titanic\"    | 1316  | 4       |\n",
       "| 15  | \"COUNT\" | \"titanicgrp\" | \"titanicgrp\" | 12    | 5       |"
      ]
     },
     "execution_count": 23,
     "metadata": {},
     "output_type": "execute_result"
    }
   ],
   "source": [
    "RDatasets.datasets(\"COUNT\")"
   ]
  },
  {
   "cell_type": "code",
   "execution_count": 24,
   "metadata": {
    "collapsed": false
   },
   "outputs": [
    {
     "data": {
      "text/html": [
       "<table class=\"data-frame\"><tr><th></th><th>Low</th><th>Smoke</th><th>Race</th><th>Age</th><th>LWt</th><th>PTL</th><th>Ht</th><th>UI</th><th>FTV</th><th>BWt</th></tr><tr><th>1</th><td>0</td><td>0</td><td>2</td><td>19</td><td>182</td><td>0</td><td>0</td><td>1</td><td>0</td><td>2523</td></tr><tr><th>2</th><td>0</td><td>0</td><td>3</td><td>33</td><td>155</td><td>0</td><td>0</td><td>0</td><td>3</td><td>2551</td></tr><tr><th>3</th><td>0</td><td>1</td><td>1</td><td>20</td><td>105</td><td>0</td><td>0</td><td>0</td><td>1</td><td>2557</td></tr><tr><th>4</th><td>0</td><td>1</td><td>1</td><td>21</td><td>108</td><td>0</td><td>0</td><td>1</td><td>2</td><td>2594</td></tr><tr><th>5</th><td>0</td><td>1</td><td>1</td><td>18</td><td>107</td><td>0</td><td>0</td><td>1</td><td>0</td><td>2600</td></tr><tr><th>6</th><td>0</td><td>0</td><td>3</td><td>21</td><td>124</td><td>0</td><td>0</td><td>0</td><td>0</td><td>2622</td></tr><tr><th>7</th><td>0</td><td>0</td><td>1</td><td>22</td><td>118</td><td>0</td><td>0</td><td>0</td><td>1</td><td>2637</td></tr><tr><th>8</th><td>0</td><td>0</td><td>3</td><td>17</td><td>103</td><td>0</td><td>0</td><td>0</td><td>1</td><td>2637</td></tr><tr><th>9</th><td>0</td><td>1</td><td>1</td><td>29</td><td>123</td><td>0</td><td>0</td><td>0</td><td>1</td><td>2663</td></tr><tr><th>10</th><td>0</td><td>1</td><td>1</td><td>26</td><td>113</td><td>0</td><td>0</td><td>0</td><td>0</td><td>2665</td></tr><tr><th>11</th><td>0</td><td>0</td><td>3</td><td>19</td><td>95</td><td>0</td><td>0</td><td>0</td><td>0</td><td>2722</td></tr><tr><th>12</th><td>0</td><td>0</td><td>3</td><td>19</td><td>150</td><td>0</td><td>0</td><td>0</td><td>1</td><td>2733</td></tr><tr><th>13</th><td>0</td><td>0</td><td>3</td><td>22</td><td>95</td><td>0</td><td>1</td><td>0</td><td>0</td><td>2750</td></tr><tr><th>14</th><td>0</td><td>0</td><td>3</td><td>30</td><td>107</td><td>1</td><td>0</td><td>1</td><td>2</td><td>2750</td></tr><tr><th>15</th><td>0</td><td>1</td><td>1</td><td>18</td><td>100</td><td>0</td><td>0</td><td>0</td><td>0</td><td>2769</td></tr><tr><th>16</th><td>0</td><td>1</td><td>1</td><td>18</td><td>100</td><td>0</td><td>0</td><td>0</td><td>0</td><td>2769</td></tr><tr><th>17</th><td>0</td><td>0</td><td>2</td><td>15</td><td>98</td><td>0</td><td>0</td><td>0</td><td>0</td><td>2778</td></tr><tr><th>18</th><td>0</td><td>1</td><td>1</td><td>25</td><td>118</td><td>0</td><td>0</td><td>0</td><td>3</td><td>2782</td></tr><tr><th>19</th><td>0</td><td>0</td><td>3</td><td>20</td><td>120</td><td>0</td><td>0</td><td>1</td><td>0</td><td>2807</td></tr><tr><th>20</th><td>0</td><td>1</td><td>1</td><td>28</td><td>120</td><td>0</td><td>0</td><td>0</td><td>1</td><td>2821</td></tr><tr><th>21</th><td>0</td><td>0</td><td>3</td><td>32</td><td>121</td><td>0</td><td>0</td><td>0</td><td>2</td><td>2835</td></tr><tr><th>22</th><td>0</td><td>0</td><td>1</td><td>31</td><td>100</td><td>0</td><td>0</td><td>1</td><td>3</td><td>2835</td></tr><tr><th>23</th><td>0</td><td>0</td><td>1</td><td>36</td><td>202</td><td>0</td><td>0</td><td>0</td><td>1</td><td>2836</td></tr><tr><th>24</th><td>0</td><td>0</td><td>3</td><td>28</td><td>120</td><td>0</td><td>0</td><td>0</td><td>0</td><td>2863</td></tr><tr><th>25</th><td>0</td><td>0</td><td>3</td><td>25</td><td>120</td><td>0</td><td>0</td><td>1</td><td>2</td><td>2877</td></tr><tr><th>26</th><td>0</td><td>0</td><td>1</td><td>28</td><td>167</td><td>0</td><td>0</td><td>0</td><td>0</td><td>2877</td></tr><tr><th>27</th><td>0</td><td>1</td><td>1</td><td>17</td><td>122</td><td>0</td><td>0</td><td>0</td><td>0</td><td>2906</td></tr><tr><th>28</th><td>0</td><td>0</td><td>1</td><td>29</td><td>150</td><td>0</td><td>0</td><td>0</td><td>2</td><td>2920</td></tr><tr><th>29</th><td>0</td><td>1</td><td>2</td><td>26</td><td>168</td><td>0</td><td>0</td><td>0</td><td>0</td><td>2920</td></tr><tr><th>30</th><td>0</td><td>0</td><td>2</td><td>17</td><td>113</td><td>0</td><td>0</td><td>0</td><td>1</td><td>2920</td></tr><tr><th>&vellip;</th><td>&vellip;</td><td>&vellip;</td><td>&vellip;</td><td>&vellip;</td><td>&vellip;</td><td>&vellip;</td><td>&vellip;</td><td>&vellip;</td><td>&vellip;</td><td>&vellip;</td></tr></table>"
      ],
      "text/plain": [
       "189x10 DataFrame\n",
       "| Row | Low | Smoke | Race | Age | LWt | PTL | Ht | UI | FTV | BWt  |\n",
       "|-----|-----|-------|------|-----|-----|-----|----|----|-----|------|\n",
       "| 1   | 0   | 0     | 2    | 19  | 182 | 0   | 0  | 1  | 0   | 2523 |\n",
       "| 2   | 0   | 0     | 3    | 33  | 155 | 0   | 0  | 0  | 3   | 2551 |\n",
       "| 3   | 0   | 1     | 1    | 20  | 105 | 0   | 0  | 0  | 1   | 2557 |\n",
       "| 4   | 0   | 1     | 1    | 21  | 108 | 0   | 0  | 1  | 2   | 2594 |\n",
       "| 5   | 0   | 1     | 1    | 18  | 107 | 0   | 0  | 1  | 0   | 2600 |\n",
       "| 6   | 0   | 0     | 3    | 21  | 124 | 0   | 0  | 0  | 0   | 2622 |\n",
       "| 7   | 0   | 0     | 1    | 22  | 118 | 0   | 0  | 0  | 1   | 2637 |\n",
       "| 8   | 0   | 0     | 3    | 17  | 103 | 0   | 0  | 0  | 1   | 2637 |\n",
       "| 9   | 0   | 1     | 1    | 29  | 123 | 0   | 0  | 0  | 1   | 2663 |\n",
       "| 10  | 0   | 1     | 1    | 26  | 113 | 0   | 0  | 0  | 0   | 2665 |\n",
       "| 11  | 0   | 0     | 3    | 19  | 95  | 0   | 0  | 0  | 0   | 2722 |\n",
       "⋮\n",
       "| 178 | 1   | 1     | 1    | 17  | 120 | 0   | 0  | 0  | 3   | 2414 |\n",
       "| 179 | 1   | 1     | 1    | 23  | 110 | 1   | 0  | 0  | 0   | 2424 |\n",
       "| 180 | 1   | 0     | 2    | 17  | 120 | 0   | 0  | 0  | 2   | 2438 |\n",
       "| 181 | 1   | 0     | 3    | 26  | 154 | 1   | 1  | 0  | 1   | 2442 |\n",
       "| 182 | 1   | 0     | 3    | 20  | 106 | 0   | 0  | 0  | 3   | 2450 |\n",
       "| 183 | 1   | 1     | 1    | 26  | 190 | 0   | 0  | 0  | 0   | 2466 |\n",
       "| 184 | 1   | 1     | 3    | 14  | 101 | 1   | 0  | 0  | 0   | 2466 |\n",
       "| 185 | 1   | 1     | 1    | 28  | 95  | 0   | 0  | 0  | 2   | 2466 |\n",
       "| 186 | 1   | 0     | 3    | 14  | 100 | 0   | 0  | 0  | 2   | 2495 |\n",
       "| 187 | 1   | 1     | 3    | 23  | 94  | 0   | 0  | 0  | 0   | 2495 |\n",
       "| 188 | 1   | 0     | 2    | 17  | 142 | 0   | 1  | 0  | 0   | 2495 |\n",
       "| 189 | 1   | 1     | 1    | 21  | 130 | 0   | 1  | 0  | 3   | 2495 |"
      ]
     },
     "execution_count": 24,
     "metadata": {},
     "output_type": "execute_result"
    }
   ],
   "source": [
    "lbw = dataset(\"COUNT\", \"lbw\")"
   ]
  },
  {
   "cell_type": "code",
   "execution_count": null,
   "metadata": {
    "collapsed": true
   },
   "outputs": [],
   "source": []
  }
 ],
 "metadata": {
  "kernelspec": {
   "display_name": "Julia 0.3.8",
   "language": "julia",
   "name": "julia-0.3"
  },
  "language_info": {
   "name": "julia",
   "version": "0.3.8"
  }
 },
 "nbformat": 4,
 "nbformat_minor": 0
}
